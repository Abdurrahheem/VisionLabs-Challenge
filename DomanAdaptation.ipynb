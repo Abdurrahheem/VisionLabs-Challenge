{
 "cells": [
  {
   "cell_type": "code",
   "execution_count": 2,
   "metadata": {},
   "outputs": [],
   "source": [
    "import os\n",
    "import torch \n",
    "import random\n",
    "import torch.nn as nn\n",
    "import torchvision\n",
    "import torchvision.models as models\n",
    "from torch.autograd import Function\n",
    "from torch.utils.data import Dataset, DataLoader\n",
    "from torchvision import transforms\n",
    "from PIL import Image"
   ]
  },
  {
   "cell_type": "code",
   "execution_count": 3,
   "metadata": {},
   "outputs": [],
   "source": [
    "class GradientReversalFn(Function):\n",
    "    @staticmethod\n",
    "    def forward(ctx, x, alpha):\n",
    "        # Store context for backprop\n",
    "        ctx.alpha = alpha\n",
    "        \n",
    "        # Forward pass is a no-op\n",
    "        return x.view_as(x)\n",
    "\n",
    "    @staticmethod\n",
    "    def backward(ctx, grad_output):\n",
    "        # Backward pass is just to -alpha the gradient\n",
    "        output = grad_output.neg() * ctx.alpha\n",
    "\n",
    "        # Must return same number as inputs to forward()\n",
    "        return output, None"
   ]
  },
  {
   "cell_type": "code",
   "execution_count": 4,
   "metadata": {},
   "outputs": [],
   "source": [
    "class DACNN(nn.Module):\n",
    "    def __init__(self, c):\n",
    "        super().__init__()\n",
    "        self.feature_extractor = nn.Sequential(\n",
    "                                                nn.Conv2d(1, c, 3, padding=1),\n",
    "                                                nn.BatchNorm2d(c),\n",
    "                                                nn.LeakyReLU(),\n",
    "                                                nn.MaxPool2d(2),\n",
    "                                                nn.Conv2d(c, 2*c, 3, padding=1),\n",
    "                                                nn.BatchNorm2d(2*c),\n",
    "                                                nn.LeakyReLU(),\n",
    "                                                nn.MaxPool2d(2),\n",
    "                                                nn.Conv2d(2*c, 4*c, 3, padding=1),\n",
    "                                                nn.BatchNorm2d(4*c),\n",
    "                                                nn.LeakyReLU(),\n",
    "                                                nn.MaxPool2d(2),\n",
    "                                                nn.Conv2d(4*c, 8*c, 3, padding=1),\n",
    "                                                nn.BatchNorm2d(8*c),\n",
    "                                                nn.LeakyReLU(),\n",
    "                                                nn.Flatten()\n",
    "                                            )\n",
    "\n",
    "        self.class_classifier = nn.Sequential(\n",
    "                                                nn.Linear(216, 64),\n",
    "                                                nn.LeakyReLU(),\n",
    "                                                nn.Linear(64, 2),\n",
    "#                                                 nn.LogSoftmax(dim=1),\n",
    "                                            )\n",
    "        \n",
    "        self.domain_classifier = nn.Sequential(\n",
    "                                                nn.Linear(216, 64),\n",
    "                                                nn.LeakyReLU(),\n",
    "                                                nn.Linear(64, 2),\n",
    "#                                                 nn.LogSoftmax(dim=1),\n",
    "                                            )\n",
    "\n",
    "    def forward(self, x, grl_lambda=1.0):\n",
    "        \n",
    "        features = self.feature_extractor(x)\n",
    "        reverse_features = GradientReversalFn.apply(features, grl_lambda)\n",
    "        class_pred = self.class_classifier(features)\n",
    "        domain_pred = self.domain_classifier(reverse_features)\n",
    "        \n",
    "        return class_pred, domain_pred"
   ]
  },
  {
   "cell_type": "code",
   "execution_count": 5,
   "metadata": {},
   "outputs": [],
   "source": [
    "class myData(Dataset):\n",
    "    def __init__(self, pathToImgs, tranformation=None, distrib='source'):\n",
    "        \n",
    "        self.distrib = distrib\n",
    "        self.pathToImgs = pathToImgs\n",
    "        self.transforms = tranformation\n",
    "        \n",
    "        if self.distrib == 'source':\n",
    "            data = os.listdir(pathToImgs)\n",
    "            random.shuffle(data)\n",
    "            self.imgNames = data\n",
    "            self.transfrom = transforms.Compose([\n",
    "                                            transforms.Resize((28,28)),\n",
    "                                            transforms.CenterCrop((24,24)),\n",
    "                                            transforms.ToTensor(),\n",
    "                                            transforms.Normalize(mean = (0.34144994450215727,),\n",
    "                                                                 std  = (0.06782956562805965,)),\n",
    "                                               ])\n",
    "    \n",
    "        elif self.distrib == 'target':\n",
    "            self.imgNames = os.listdir(pathToImgs)\n",
    "            self.transfrom = transforms.Compose([transforms.ToTensor(),\n",
    "                                                 transforms.Normalize(mean = (0.4982371738336079,),\n",
    "                                                                      std  = (0.13347655994299062,)),\n",
    "                                                ])\n",
    "\n",
    "\n",
    "    def __len__(self):\n",
    "        return len(self.imgNames)\n",
    "    \n",
    "    def __getitem__(self, idx):\n",
    "      \n",
    "        if torch.is_tensor(idx):\n",
    "            idx = idx.tolist()\n",
    "        img_name = os.path.join(self.pathToImgs, self.imgNames[idx])\n",
    "       \n",
    "        \n",
    "        if self.distrib == 'target':\n",
    "            label = self.imgNames[idx].split('.')[0]\n",
    "            label = torch.tensor(int(label.split('_')[1]))\n",
    "            image = Image.open(img_name) \n",
    "            image = self.transfrom(image)\n",
    "            \n",
    "        elif self.distrib == 'source':\n",
    "            image = Image.open(img_name) \n",
    "            image = self.transfrom(image)\n",
    "            label = torch.tensor(int(self.imgNames[idx].split('_')[4]))\n",
    "            \n",
    "        return image, label"
   ]
  },
  {
   "cell_type": "code",
   "execution_count": 6,
   "metadata": {},
   "outputs": [],
   "source": [
    "# ds_source = myData(path_target, 'target')\n",
    "# ds_target = myData(path_target, distrib='target')\n",
    "\n",
    "# mean = 0\n",
    "# std = 0\n",
    "# for i in ds_target: \n",
    "#     data = np.array(i[0])\n",
    "#     mean += np.mean(data)\n",
    "#     std  += np.std(data)\n",
    "# mean/len(ds_source), std/len(ds_source)"
   ]
  },
  {
   "cell_type": "code",
   "execution_count": 14,
   "metadata": {},
   "outputs": [],
   "source": [
    "path_source_train = './mrlEyes_2018_01/train/'\n",
    "path_source_test =  './mrlEyes_2018_01/test/'\n",
    "path_target_train = './EyesDataset/train/'\n",
    "path_target_test = './EyesDataset/test/'\n",
    "\n",
    "bsize = 200\n",
    "ds_source_train = myData(path_source_train)\n",
    "ds_target_train = myData(path_target_train, distrib='target')\n",
    "ds_source_test = myData(path_source_test)\n",
    "ds_target_test = myData(path_target_test, distrib='target')\n",
    "\n",
    "dl_source_train = DataLoader(ds_source_train, batch_size= bsize, shuffle=True)\n",
    "dl_target_train = DataLoader(ds_target_train, batch_size= bsize, shuffle=True)\n",
    "dl_source_test = DataLoader(ds_source_test, batch_size= bsize)\n",
    "dl_target_test = DataLoader(ds_target_test, batch_size= bsize)"
   ]
  },
  {
   "cell_type": "code",
   "execution_count": 15,
   "metadata": {},
   "outputs": [
    {
     "data": {
      "text/plain": [
       "19"
      ]
     },
     "execution_count": 15,
     "metadata": {},
     "output_type": "execute_result"
    }
   ],
   "source": [
    "max_batches = min(len(dl_source_train), len(dl_target_train))\n",
    "max_batches"
   ]
  },
  {
   "cell_type": "code",
   "execution_count": 20,
   "metadata": {},
   "outputs": [],
   "source": [
    "lr = 1e-3\n",
    "n_epochs = 10\n",
    "\n",
    "# Setup optimizer as usual\n",
    "model = DACNN(c=3)\n",
    "optimizer = torch.optim.Adam(model.parameters(), lr)\n",
    "\n",
    "# Two losses functions this time\n",
    "loss_fn_class = nn.CrossEntropyLoss()\n",
    "loss_fn_domain =  nn.CrossEntropyLoss()\n",
    "criterion = nn.CrossEntropyLoss()"
   ]
  },
  {
   "cell_type": "code",
   "execution_count": 21,
   "metadata": {},
   "outputs": [],
   "source": [
    "def get_accuracy(model, loader):\n",
    "    model.eval()\n",
    "    correct = 0 \n",
    "    with torch.no_grad():\n",
    "        for batch in loader: \n",
    "            x, y = batch[0], batch[1]\n",
    "            out = model(x)\n",
    "            preds = torch.argmax(out[0], dim=1)\n",
    "            correct += torch.mean((preds == y).float()).item()\n",
    "    correct /= len(loader)\n",
    "    return correct"
   ]
  },
  {
   "cell_type": "code",
   "execution_count": 22,
   "metadata": {},
   "outputs": [
    {
     "name": "stdout",
     "output_type": "stream",
     "text": [
      "Epoch 0001 / 0010\n",
      "=================\n",
      "[1/19] class_loss: 0.6959 s_domain_loss: 0.6634 t_domain_loss: 0.7333 grl_lambda: 0.000 \n",
      "[2/19] class_loss: 0.6826 s_domain_loss: 0.7035 t_domain_loss: 0.6609 grl_lambda: 0.026 \n",
      "[3/19] class_loss: 0.6493 s_domain_loss: 0.7325 t_domain_loss: 0.6120 grl_lambda: 0.053 \n",
      "[4/19] class_loss: 0.6273 s_domain_loss: 0.7344 t_domain_loss: 0.5819 grl_lambda: 0.079 \n",
      "[5/19] class_loss: 0.6359 s_domain_loss: 0.7330 t_domain_loss: 0.5734 grl_lambda: 0.105 \n",
      "[6/19] class_loss: 0.5987 s_domain_loss: 0.7330 t_domain_loss: 0.5310 grl_lambda: 0.131 \n",
      "[7/19] class_loss: 0.6057 s_domain_loss: 0.7159 t_domain_loss: 0.5348 grl_lambda: 0.157 \n",
      "[8/19] class_loss: 0.5596 s_domain_loss: 0.6982 t_domain_loss: 0.5337 grl_lambda: 0.182 \n",
      "[9/19] class_loss: 0.5779 s_domain_loss: 0.6785 t_domain_loss: 0.5302 grl_lambda: 0.207 \n",
      "[10/19] class_loss: 0.5321 s_domain_loss: 0.6728 t_domain_loss: 0.5064 grl_lambda: 0.233 \n",
      "[11/19] class_loss: 0.5293 s_domain_loss: 0.6407 t_domain_loss: 0.5067 grl_lambda: 0.257 \n",
      "[12/19] class_loss: 0.5236 s_domain_loss: 0.6082 t_domain_loss: 0.5109 grl_lambda: 0.282 \n",
      "[13/19] class_loss: 0.4722 s_domain_loss: 0.6035 t_domain_loss: 0.5141 grl_lambda: 0.306 \n",
      "[14/19] class_loss: 0.4617 s_domain_loss: 0.5838 t_domain_loss: 0.4820 grl_lambda: 0.329 \n",
      "[15/19] class_loss: 0.4567 s_domain_loss: 0.5944 t_domain_loss: 0.4948 grl_lambda: 0.353 \n",
      "[16/19] class_loss: 0.4012 s_domain_loss: 0.5811 t_domain_loss: 0.4661 grl_lambda: 0.375 \n",
      "[17/19] class_loss: 0.4117 s_domain_loss: 0.5257 t_domain_loss: 0.4855 grl_lambda: 0.398 \n",
      "[18/19] class_loss: 0.3706 s_domain_loss: 0.5728 t_domain_loss: 0.4697 grl_lambda: 0.420 \n",
      "[19/19] class_loss: 0.3582 s_domain_loss: 0.5372 t_domain_loss: 0.5466 grl_lambda: 0.441 \n",
      "[19/19]  source_acc_train: 0.8621 source_acc_test: 0.7099\n",
      "[19/19]  target_acc_train: 0.5087 target_acc_test: 0.4800\n",
      "Epoch 0002 / 0010\n",
      "=================\n",
      "[1/19] class_loss: 0.2850 s_domain_loss: 0.5639 t_domain_loss: 0.5227 grl_lambda: 0.462 \n",
      "[2/19] class_loss: 0.2868 s_domain_loss: 0.5880 t_domain_loss: 0.5164 grl_lambda: 0.483 \n",
      "[3/19] class_loss: 0.3229 s_domain_loss: 0.5235 t_domain_loss: 0.5790 grl_lambda: 0.502 \n",
      "[4/19] class_loss: 0.3540 s_domain_loss: 0.5438 t_domain_loss: 0.5971 grl_lambda: 0.522 \n",
      "[5/19] class_loss: 0.3264 s_domain_loss: 0.5850 t_domain_loss: 0.6103 grl_lambda: 0.541 \n",
      "[6/19] class_loss: 0.2505 s_domain_loss: 0.5110 t_domain_loss: 0.6578 grl_lambda: 0.559 \n",
      "[7/19] class_loss: 0.3627 s_domain_loss: 0.5727 t_domain_loss: 0.6657 grl_lambda: 0.577 \n",
      "[8/19] class_loss: 0.3396 s_domain_loss: 0.5712 t_domain_loss: 0.6941 grl_lambda: 0.594 \n",
      "[9/19] class_loss: 0.3288 s_domain_loss: 0.6042 t_domain_loss: 0.7211 grl_lambda: 0.611 \n",
      "[10/19] class_loss: 0.3304 s_domain_loss: 0.6384 t_domain_loss: 0.6732 grl_lambda: 0.627 \n",
      "[11/19] class_loss: 0.3378 s_domain_loss: 0.7120 t_domain_loss: 0.6743 grl_lambda: 0.643 \n",
      "[12/19] class_loss: 0.3205 s_domain_loss: 0.6672 t_domain_loss: 0.6227 grl_lambda: 0.658 \n",
      "[13/19] class_loss: 0.3413 s_domain_loss: 0.7519 t_domain_loss: 0.6595 grl_lambda: 0.673 \n",
      "[14/19] class_loss: 0.3326 s_domain_loss: 0.7819 t_domain_loss: 0.6172 grl_lambda: 0.687 \n",
      "[15/19] class_loss: 0.3473 s_domain_loss: 0.8089 t_domain_loss: 0.6242 grl_lambda: 0.701 \n",
      "[16/19] class_loss: 0.3483 s_domain_loss: 0.8254 t_domain_loss: 0.5779 grl_lambda: 0.714 \n",
      "[17/19] class_loss: 0.3750 s_domain_loss: 0.8260 t_domain_loss: 0.6243 grl_lambda: 0.726 \n",
      "[18/19] class_loss: 0.3061 s_domain_loss: 0.8096 t_domain_loss: 0.6143 grl_lambda: 0.739 \n",
      "[19/19] class_loss: 0.2745 s_domain_loss: 0.8406 t_domain_loss: 0.6183 grl_lambda: 0.750 \n",
      "[19/19]  source_acc_train: 0.8631 source_acc_test: 0.5990\n",
      "[19/19]  target_acc_train: 0.4868 target_acc_test: 0.4900\n",
      "Epoch 0003 / 0010\n",
      "=================\n",
      "[1/19] class_loss: 0.3595 s_domain_loss: 0.8498 t_domain_loss: 0.6484 grl_lambda: 0.762 \n",
      "[2/19] class_loss: 0.3463 s_domain_loss: 0.8331 t_domain_loss: 0.6674 grl_lambda: 0.772 \n",
      "[3/19] class_loss: 0.3177 s_domain_loss: 0.8034 t_domain_loss: 0.6793 grl_lambda: 0.783 \n",
      "[4/19] class_loss: 0.2718 s_domain_loss: 0.8008 t_domain_loss: 0.6737 grl_lambda: 0.793 \n",
      "[5/19] class_loss: 0.3129 s_domain_loss: 0.8037 t_domain_loss: 0.7068 grl_lambda: 0.802 \n",
      "[6/19] class_loss: 0.2923 s_domain_loss: 0.7992 t_domain_loss: 0.7338 grl_lambda: 0.812 \n",
      "[7/19] class_loss: 0.3573 s_domain_loss: 0.7986 t_domain_loss: 0.7512 grl_lambda: 0.820 \n",
      "[8/19] class_loss: 0.3420 s_domain_loss: 0.7740 t_domain_loss: 0.7826 grl_lambda: 0.829 \n",
      "[9/19] class_loss: 0.2752 s_domain_loss: 0.7472 t_domain_loss: 0.8020 grl_lambda: 0.837 \n",
      "[10/19] class_loss: 0.2899 s_domain_loss: 0.7809 t_domain_loss: 0.7910 grl_lambda: 0.845 \n",
      "[11/19] class_loss: 0.3417 s_domain_loss: 0.7843 t_domain_loss: 0.8317 grl_lambda: 0.852 \n",
      "[12/19] class_loss: 0.2807 s_domain_loss: 0.7584 t_domain_loss: 0.8366 grl_lambda: 0.859 \n",
      "[13/19] class_loss: 0.2996 s_domain_loss: 0.7741 t_domain_loss: 0.8075 grl_lambda: 0.866 \n",
      "[14/19] class_loss: 0.2992 s_domain_loss: 0.7558 t_domain_loss: 0.8118 grl_lambda: 0.872 \n",
      "[15/19] class_loss: 0.2931 s_domain_loss: 0.7564 t_domain_loss: 0.8243 grl_lambda: 0.878 \n",
      "[16/19] class_loss: 0.3018 s_domain_loss: 0.7675 t_domain_loss: 0.8319 grl_lambda: 0.884 \n",
      "[17/19] class_loss: 0.2528 s_domain_loss: 0.7698 t_domain_loss: 0.8288 grl_lambda: 0.890 \n",
      "[18/19] class_loss: 0.2110 s_domain_loss: 0.7632 t_domain_loss: 0.8176 grl_lambda: 0.895 \n",
      "[19/19] class_loss: 0.2259 s_domain_loss: 0.7766 t_domain_loss: 0.8161 grl_lambda: 0.900 \n",
      "[19/19]  source_acc_train: 0.8821 source_acc_test: 0.6825\n",
      "[19/19]  target_acc_train: 0.5113 target_acc_test: 0.5050\n",
      "Epoch 0004 / 0010\n",
      "=================\n",
      "[1/19] class_loss: 0.3460 s_domain_loss: 0.7691 t_domain_loss: 0.8203 grl_lambda: 0.905 \n",
      "[2/19] class_loss: 0.2616 s_domain_loss: 0.7313 t_domain_loss: 0.8169 grl_lambda: 0.910 \n",
      "[3/19] class_loss: 0.2760 s_domain_loss: 0.7642 t_domain_loss: 0.7908 grl_lambda: 0.914 \n",
      "[4/19] class_loss: 0.2446 s_domain_loss: 0.7544 t_domain_loss: 0.8113 grl_lambda: 0.918 \n",
      "[5/19] class_loss: 0.2352 s_domain_loss: 0.7102 t_domain_loss: 0.7973 grl_lambda: 0.922 \n",
      "[6/19] class_loss: 0.3220 s_domain_loss: 0.7183 t_domain_loss: 0.7897 grl_lambda: 0.926 \n",
      "[7/19] class_loss: 0.2626 s_domain_loss: 0.7298 t_domain_loss: 0.7972 grl_lambda: 0.930 \n",
      "[8/19] class_loss: 0.3333 s_domain_loss: 0.7022 t_domain_loss: 0.7657 grl_lambda: 0.933 \n",
      "[9/19] class_loss: 0.2385 s_domain_loss: 0.7087 t_domain_loss: 0.7379 grl_lambda: 0.937 \n",
      "[10/19] class_loss: 0.3345 s_domain_loss: 0.7280 t_domain_loss: 0.7223 grl_lambda: 0.940 \n",
      "[11/19] class_loss: 0.2433 s_domain_loss: 0.7245 t_domain_loss: 0.7022 grl_lambda: 0.943 \n",
      "[12/19] class_loss: 0.3750 s_domain_loss: 0.7338 t_domain_loss: 0.6759 grl_lambda: 0.946 \n",
      "[13/19] class_loss: 0.2867 s_domain_loss: 0.7357 t_domain_loss: 0.6329 grl_lambda: 0.948 \n",
      "[14/19] class_loss: 0.2933 s_domain_loss: 0.7500 t_domain_loss: 0.6151 grl_lambda: 0.951 \n",
      "[15/19] class_loss: 0.3115 s_domain_loss: 0.7622 t_domain_loss: 0.6130 grl_lambda: 0.953 \n",
      "[16/19] class_loss: 0.2886 s_domain_loss: 0.7624 t_domain_loss: 0.5885 grl_lambda: 0.956 \n",
      "[17/19] class_loss: 0.3363 s_domain_loss: 0.7485 t_domain_loss: 0.5732 grl_lambda: 0.958 \n",
      "[18/19] class_loss: 0.3280 s_domain_loss: 0.7326 t_domain_loss: 0.5644 grl_lambda: 0.960 \n",
      "[19/19] class_loss: 0.3008 s_domain_loss: 0.7329 t_domain_loss: 0.5947 grl_lambda: 0.962 \n",
      "[19/19]  source_acc_train: 0.8798 source_acc_test: 0.6874\n",
      "[19/19]  target_acc_train: 0.5195 target_acc_test: 0.4950\n",
      "Epoch 0005 / 0010\n",
      "=================\n",
      "[1/19] class_loss: 0.2103 s_domain_loss: 0.7095 t_domain_loss: 0.5791 grl_lambda: 0.964 \n",
      "[2/19] class_loss: 0.2714 s_domain_loss: 0.7214 t_domain_loss: 0.5672 grl_lambda: 0.966 \n",
      "[3/19] class_loss: 0.2547 s_domain_loss: 0.7258 t_domain_loss: 0.5756 grl_lambda: 0.968 \n",
      "[4/19] class_loss: 0.2930 s_domain_loss: 0.7168 t_domain_loss: 0.5925 grl_lambda: 0.969 \n",
      "[5/19] class_loss: 0.3290 s_domain_loss: 0.6949 t_domain_loss: 0.5855 grl_lambda: 0.971 \n",
      "[6/19] class_loss: 0.3231 s_domain_loss: 0.6737 t_domain_loss: 0.5729 grl_lambda: 0.972 \n",
      "[7/19] class_loss: 0.2859 s_domain_loss: 0.6639 t_domain_loss: 0.5962 grl_lambda: 0.974 \n",
      "[8/19] class_loss: 0.2659 s_domain_loss: 0.6396 t_domain_loss: 0.6148 grl_lambda: 0.975 \n",
      "[9/19] class_loss: 0.3238 s_domain_loss: 0.6389 t_domain_loss: 0.6164 grl_lambda: 0.976 \n"
     ]
    },
    {
     "name": "stdout",
     "output_type": "stream",
     "text": [
      "[10/19] class_loss: 0.3120 s_domain_loss: 0.6301 t_domain_loss: 0.6606 grl_lambda: 0.977 \n",
      "[11/19] class_loss: 0.2740 s_domain_loss: 0.6004 t_domain_loss: 0.6629 grl_lambda: 0.979 \n",
      "[12/19] class_loss: 0.2710 s_domain_loss: 0.6442 t_domain_loss: 0.6291 grl_lambda: 0.980 \n",
      "[13/19] class_loss: 0.2564 s_domain_loss: 0.6324 t_domain_loss: 0.6571 grl_lambda: 0.981 \n",
      "[14/19] class_loss: 0.2523 s_domain_loss: 0.5946 t_domain_loss: 0.7026 grl_lambda: 0.982 \n",
      "[15/19] class_loss: 0.2822 s_domain_loss: 0.6049 t_domain_loss: 0.7063 grl_lambda: 0.983 \n",
      "[16/19] class_loss: 0.2802 s_domain_loss: 0.6199 t_domain_loss: 0.6848 grl_lambda: 0.984 \n",
      "[17/19] class_loss: 0.3094 s_domain_loss: 0.6302 t_domain_loss: 0.7095 grl_lambda: 0.984 \n",
      "[18/19] class_loss: 0.2899 s_domain_loss: 0.6410 t_domain_loss: 0.7422 grl_lambda: 0.985 \n",
      "[19/19] class_loss: 0.3056 s_domain_loss: 0.6490 t_domain_loss: 0.6889 grl_lambda: 0.986 \n",
      "[19/19]  source_acc_train: 0.8344 source_acc_test: 0.6290\n",
      "[19/19]  target_acc_train: 0.4576 target_acc_test: 0.4650\n",
      "Epoch 0006 / 0010\n",
      "=================\n",
      "[1/19] class_loss: 0.2907 s_domain_loss: 0.6605 t_domain_loss: 0.6559 grl_lambda: 0.987 \n",
      "[2/19] class_loss: 0.3500 s_domain_loss: 0.6297 t_domain_loss: 0.6967 grl_lambda: 0.987 \n",
      "[3/19] class_loss: 0.3408 s_domain_loss: 0.6975 t_domain_loss: 0.6796 grl_lambda: 0.988 \n",
      "[4/19] class_loss: 0.2890 s_domain_loss: 0.7056 t_domain_loss: 0.6713 grl_lambda: 0.989 \n",
      "[5/19] class_loss: 0.2588 s_domain_loss: 0.6628 t_domain_loss: 0.7339 grl_lambda: 0.989 \n",
      "[6/19] class_loss: 0.3008 s_domain_loss: 0.6873 t_domain_loss: 0.7140 grl_lambda: 0.990 \n",
      "[7/19] class_loss: 0.3128 s_domain_loss: 0.6896 t_domain_loss: 0.6835 grl_lambda: 0.990 \n",
      "[8/19] class_loss: 0.1933 s_domain_loss: 0.7118 t_domain_loss: 0.6565 grl_lambda: 0.991 \n",
      "[9/19] class_loss: 0.2618 s_domain_loss: 0.7407 t_domain_loss: 0.6515 grl_lambda: 0.991 \n",
      "[10/19] class_loss: 0.3087 s_domain_loss: 0.7490 t_domain_loss: 0.6292 grl_lambda: 0.992 \n",
      "[11/19] class_loss: 0.2382 s_domain_loss: 0.7554 t_domain_loss: 0.6150 grl_lambda: 0.992 \n",
      "[12/19] class_loss: 0.2385 s_domain_loss: 0.7408 t_domain_loss: 0.6311 grl_lambda: 0.992 \n",
      "[13/19] class_loss: 0.2964 s_domain_loss: 0.7584 t_domain_loss: 0.5937 grl_lambda: 0.993 \n",
      "[14/19] class_loss: 0.2022 s_domain_loss: 0.7259 t_domain_loss: 0.6096 grl_lambda: 0.993 \n",
      "[15/19] class_loss: 0.2505 s_domain_loss: 0.7186 t_domain_loss: 0.5993 grl_lambda: 0.994 \n",
      "[16/19] class_loss: 0.2848 s_domain_loss: 0.7268 t_domain_loss: 0.5682 grl_lambda: 0.994 \n",
      "[17/19] class_loss: 0.3006 s_domain_loss: 0.7118 t_domain_loss: 0.5649 grl_lambda: 0.994 \n",
      "[18/19] class_loss: 0.3084 s_domain_loss: 0.7028 t_domain_loss: 0.5667 grl_lambda: 0.995 \n",
      "[19/19] class_loss: 0.2608 s_domain_loss: 0.7115 t_domain_loss: 0.5526 grl_lambda: 0.995 \n",
      "[19/19]  source_acc_train: 0.8746 source_acc_test: 0.7234\n",
      "[19/19]  target_acc_train: 0.5476 target_acc_test: 0.5050\n",
      "Epoch 0007 / 0010\n",
      "=================\n",
      "[1/19] class_loss: 0.2217 s_domain_loss: 0.6980 t_domain_loss: 0.5293 grl_lambda: 0.995 \n",
      "[2/19] class_loss: 0.3174 s_domain_loss: 0.6742 t_domain_loss: 0.5249 grl_lambda: 0.995 \n",
      "[3/19] class_loss: 0.2495 s_domain_loss: 0.6883 t_domain_loss: 0.5137 grl_lambda: 0.996 \n",
      "[4/19] class_loss: 0.2438 s_domain_loss: 0.6568 t_domain_loss: 0.4968 grl_lambda: 0.996 \n",
      "[5/19] class_loss: 0.2960 s_domain_loss: 0.6552 t_domain_loss: 0.5122 grl_lambda: 0.996 \n",
      "[6/19] class_loss: 0.2694 s_domain_loss: 0.6269 t_domain_loss: 0.5091 grl_lambda: 0.996 \n",
      "[7/19] class_loss: 0.2716 s_domain_loss: 0.6337 t_domain_loss: 0.4923 grl_lambda: 0.996 \n",
      "[8/19] class_loss: 0.2112 s_domain_loss: 0.6383 t_domain_loss: 0.5002 grl_lambda: 0.997 \n",
      "[9/19] class_loss: 0.2414 s_domain_loss: 0.6171 t_domain_loss: 0.4791 grl_lambda: 0.997 \n",
      "[10/19] class_loss: 0.2742 s_domain_loss: 0.6218 t_domain_loss: 0.4823 grl_lambda: 0.997 \n",
      "[11/19] class_loss: 0.2379 s_domain_loss: 0.6572 t_domain_loss: 0.4492 grl_lambda: 0.997 \n",
      "[12/19] class_loss: 0.2840 s_domain_loss: 0.6093 t_domain_loss: 0.5023 grl_lambda: 0.997 \n",
      "[13/19] class_loss: 0.2818 s_domain_loss: 0.6503 t_domain_loss: 0.4936 grl_lambda: 0.997 \n",
      "[14/19] class_loss: 0.2612 s_domain_loss: 0.6160 t_domain_loss: 0.4874 grl_lambda: 0.998 \n",
      "[15/19] class_loss: 0.2722 s_domain_loss: 0.6306 t_domain_loss: 0.5281 grl_lambda: 0.998 \n",
      "[16/19] class_loss: 0.2245 s_domain_loss: 0.6024 t_domain_loss: 0.5439 grl_lambda: 0.998 \n",
      "[17/19] class_loss: 0.2680 s_domain_loss: 0.6308 t_domain_loss: 0.5490 grl_lambda: 0.998 \n",
      "[18/19] class_loss: 0.1809 s_domain_loss: 0.6233 t_domain_loss: 0.5695 grl_lambda: 0.998 \n",
      "[19/19] class_loss: 0.2703 s_domain_loss: 0.6560 t_domain_loss: 0.6361 grl_lambda: 0.998 \n",
      "[19/19]  source_acc_train: 0.8952 source_acc_test: 0.7597\n",
      "[19/19]  target_acc_train: 0.5329 target_acc_test: 0.5150\n",
      "Epoch 0008 / 0010\n",
      "=================\n",
      "[1/19] class_loss: 0.2507 s_domain_loss: 0.6600 t_domain_loss: 0.6536 grl_lambda: 0.998 \n",
      "[2/19] class_loss: 0.3078 s_domain_loss: 0.6577 t_domain_loss: 0.6678 grl_lambda: 0.998 \n",
      "[3/19] class_loss: 0.3419 s_domain_loss: 0.6692 t_domain_loss: 0.6757 grl_lambda: 0.998 \n",
      "[4/19] class_loss: 0.3152 s_domain_loss: 0.6974 t_domain_loss: 0.7231 grl_lambda: 0.998 \n",
      "[5/19] class_loss: 0.2368 s_domain_loss: 0.6955 t_domain_loss: 0.7560 grl_lambda: 0.999 \n",
      "[6/19] class_loss: 0.2095 s_domain_loss: 0.6827 t_domain_loss: 0.7468 grl_lambda: 0.999 \n",
      "[7/19] class_loss: 0.2929 s_domain_loss: 0.7403 t_domain_loss: 0.7955 grl_lambda: 0.999 \n",
      "[8/19] class_loss: 0.2759 s_domain_loss: 0.7130 t_domain_loss: 0.8336 grl_lambda: 0.999 \n",
      "[9/19] class_loss: 0.3468 s_domain_loss: 0.6944 t_domain_loss: 0.8009 grl_lambda: 0.999 \n",
      "[10/19] class_loss: 0.2397 s_domain_loss: 0.7443 t_domain_loss: 0.8461 grl_lambda: 0.999 \n",
      "[11/19] class_loss: 0.2553 s_domain_loss: 0.6926 t_domain_loss: 0.8346 grl_lambda: 0.999 \n",
      "[12/19] class_loss: 0.3398 s_domain_loss: 0.7351 t_domain_loss: 0.8416 grl_lambda: 0.999 \n",
      "[13/19] class_loss: 0.3366 s_domain_loss: 0.7485 t_domain_loss: 0.8566 grl_lambda: 0.999 \n",
      "[14/19] class_loss: 0.2970 s_domain_loss: 0.7258 t_domain_loss: 0.8725 grl_lambda: 0.999 \n",
      "[15/19] class_loss: 0.2847 s_domain_loss: 0.7218 t_domain_loss: 0.7968 grl_lambda: 0.999 \n",
      "[16/19] class_loss: 0.2364 s_domain_loss: 0.7215 t_domain_loss: 0.7685 grl_lambda: 0.999 \n",
      "[17/19] class_loss: 0.2899 s_domain_loss: 0.7026 t_domain_loss: 0.7767 grl_lambda: 0.999 \n",
      "[18/19] class_loss: 0.2470 s_domain_loss: 0.7154 t_domain_loss: 0.7715 grl_lambda: 0.999 \n",
      "[19/19] class_loss: 0.3078 s_domain_loss: 0.7078 t_domain_loss: 0.6899 grl_lambda: 0.999 \n",
      "[19/19]  source_acc_train: 0.8789 source_acc_test: 0.6526\n",
      "[19/19]  target_acc_train: 0.5113 target_acc_test: 0.4500\n",
      "Epoch 0009 / 0010\n",
      "=================\n",
      "[1/19] class_loss: 0.3208 s_domain_loss: 0.7401 t_domain_loss: 0.6776 grl_lambda: 0.999 \n",
      "[2/19] class_loss: 0.2492 s_domain_loss: 0.7260 t_domain_loss: 0.6766 grl_lambda: 0.999 \n",
      "[3/19] class_loss: 0.2945 s_domain_loss: 0.7097 t_domain_loss: 0.6985 grl_lambda: 0.999 \n",
      "[4/19] class_loss: 0.3242 s_domain_loss: 0.6993 t_domain_loss: 0.6733 grl_lambda: 0.999 \n",
      "[5/19] class_loss: 0.2742 s_domain_loss: 0.7064 t_domain_loss: 0.6983 grl_lambda: 0.999 \n",
      "[6/19] class_loss: 0.3267 s_domain_loss: 0.6680 t_domain_loss: 0.6998 grl_lambda: 0.999 \n",
      "[7/19] class_loss: 0.3346 s_domain_loss: 0.6721 t_domain_loss: 0.6869 grl_lambda: 1.000 \n",
      "[8/19] class_loss: 0.3179 s_domain_loss: 0.6497 t_domain_loss: 0.7145 grl_lambda: 1.000 \n",
      "[9/19] class_loss: 0.2450 s_domain_loss: 0.6676 t_domain_loss: 0.7142 grl_lambda: 1.000 \n",
      "[10/19] class_loss: 0.2377 s_domain_loss: 0.6531 t_domain_loss: 0.7134 grl_lambda: 1.000 \n",
      "[11/19] class_loss: 0.2159 s_domain_loss: 0.6616 t_domain_loss: 0.7186 grl_lambda: 1.000 \n",
      "[12/19] class_loss: 0.2983 s_domain_loss: 0.6812 t_domain_loss: 0.7254 grl_lambda: 1.000 \n",
      "[13/19] class_loss: 0.2735 s_domain_loss: 0.7019 t_domain_loss: 0.6960 grl_lambda: 1.000 \n",
      "[14/19] class_loss: 0.2717 s_domain_loss: 0.6790 t_domain_loss: 0.6981 grl_lambda: 1.000 \n",
      "[15/19] class_loss: 0.2820 s_domain_loss: 0.6610 t_domain_loss: 0.7132 grl_lambda: 1.000 \n",
      "[16/19] class_loss: 0.2308 s_domain_loss: 0.6722 t_domain_loss: 0.7008 grl_lambda: 1.000 \n",
      "[17/19] class_loss: 0.2071 s_domain_loss: 0.7213 t_domain_loss: 0.7214 grl_lambda: 1.000 \n",
      "[18/19] class_loss: 0.2158 s_domain_loss: 0.6989 t_domain_loss: 0.7134 grl_lambda: 1.000 \n"
     ]
    },
    {
     "name": "stdout",
     "output_type": "stream",
     "text": [
      "[19/19] class_loss: 0.2071 s_domain_loss: 0.7340 t_domain_loss: 0.7031 grl_lambda: 1.000 \n",
      "[19/19]  source_acc_train: 0.8908 source_acc_test: 0.6469\n",
      "[19/19]  target_acc_train: 0.5092 target_acc_test: 0.4750\n",
      "Epoch 0010 / 0010\n",
      "=================\n",
      "[1/19] class_loss: 0.3020 s_domain_loss: 0.7290 t_domain_loss: 0.7566 grl_lambda: 1.000 \n",
      "[2/19] class_loss: 0.2499 s_domain_loss: 0.6912 t_domain_loss: 0.6960 grl_lambda: 1.000 \n",
      "[3/19] class_loss: 0.2583 s_domain_loss: 0.6895 t_domain_loss: 0.7253 grl_lambda: 1.000 \n",
      "[4/19] class_loss: 0.2328 s_domain_loss: 0.6712 t_domain_loss: 0.7445 grl_lambda: 1.000 \n",
      "[5/19] class_loss: 0.2640 s_domain_loss: 0.6799 t_domain_loss: 0.7824 grl_lambda: 1.000 \n",
      "[6/19] class_loss: 0.1637 s_domain_loss: 0.6716 t_domain_loss: 0.7805 grl_lambda: 1.000 \n",
      "[7/19] class_loss: 0.2553 s_domain_loss: 0.6623 t_domain_loss: 0.7962 grl_lambda: 1.000 \n",
      "[8/19] class_loss: 0.2563 s_domain_loss: 0.6651 t_domain_loss: 0.7593 grl_lambda: 1.000 \n",
      "[9/19] class_loss: 0.2580 s_domain_loss: 0.6967 t_domain_loss: 0.7571 grl_lambda: 1.000 \n",
      "[10/19] class_loss: 0.3125 s_domain_loss: 0.6443 t_domain_loss: 0.7416 grl_lambda: 1.000 \n",
      "[11/19] class_loss: 0.3458 s_domain_loss: 0.7214 t_domain_loss: 0.7433 grl_lambda: 1.000 \n",
      "[12/19] class_loss: 0.1949 s_domain_loss: 0.6966 t_domain_loss: 0.7099 grl_lambda: 1.000 \n",
      "[13/19] class_loss: 0.2586 s_domain_loss: 0.7337 t_domain_loss: 0.6931 grl_lambda: 1.000 \n",
      "[14/19] class_loss: 0.2437 s_domain_loss: 0.7022 t_domain_loss: 0.6861 grl_lambda: 1.000 \n",
      "[15/19] class_loss: 0.2184 s_domain_loss: 0.7689 t_domain_loss: 0.6710 grl_lambda: 1.000 \n",
      "[16/19] class_loss: 0.2175 s_domain_loss: 0.7402 t_domain_loss: 0.6761 grl_lambda: 1.000 \n",
      "[17/19] class_loss: 0.2520 s_domain_loss: 0.7559 t_domain_loss: 0.6871 grl_lambda: 1.000 \n",
      "[18/19] class_loss: 0.3100 s_domain_loss: 0.7493 t_domain_loss: 0.6860 grl_lambda: 1.000 \n",
      "[19/19] class_loss: 0.2830 s_domain_loss: 0.7286 t_domain_loss: 0.6845 grl_lambda: 1.000 \n",
      "[19/19]  source_acc_train: 0.8849 source_acc_test: 0.6433\n",
      "[19/19]  target_acc_train: 0.5240 target_acc_test: 0.4600\n"
     ]
    }
   ],
   "source": [
    "\n",
    "for epoch_idx in range(n_epochs):\n",
    "    print(f'Epoch {epoch_idx+1:04d} / {n_epochs:04d}', end='\\n=================\\n')\n",
    "    dl_source_iter = iter(dl_source_train)\n",
    "    dl_target_iter = iter(dl_target_train)\n",
    "    model.train()\n",
    "    \n",
    "    for batch_idx in range(max_batches):\n",
    "        optimizer.zero_grad()\n",
    "        # Training progress and GRL lambda\n",
    "        p = float(batch_idx + epoch_idx * max_batches) / (n_epochs * max_batches)\n",
    "        grl_lambda = 2. / (1. + np.exp(-10 * p)) - 1\n",
    "\n",
    "        # Train on source domain\n",
    "        X_s, y_s = next(dl_source_iter)\n",
    "        y_s_domain = torch.zeros(X_s.shape[0], dtype=torch.long) # generate source domain labels\n",
    "\n",
    "        class_pred, domain_pred = model(X_s, grl_lambda)\n",
    "        loss_s_label = loss_fn_class(class_pred, y_s)\n",
    "        loss_s_domain = loss_fn_domain(domain_pred, y_s_domain)\n",
    "\n",
    "        # Train on target domain\n",
    "        X_t, _ = next(dl_target_iter) # ignore target domain class labels!\n",
    "        y_t_domain = torch.ones(X_t.shape[0], dtype=torch.long) # generate target domain labels\n",
    "\n",
    "        _, domain_pred = model(X_t, grl_lambda)\n",
    "        loss_t_domain = loss_fn_domain(domain_pred, y_t_domain)\n",
    "        \n",
    "        loss = loss_t_domain + loss_s_domain + loss_s_label\n",
    "        loss.backward()\n",
    "        optimizer.step()\n",
    "        \n",
    "        print(f'[{batch_idx+1}/{max_batches}] '\n",
    "              f'class_loss: {loss_s_label.item():.4f} ' f's_domain_loss: {loss_s_domain.item():.4f} '\n",
    "              f't_domain_loss: {loss_t_domain.item():.4f} ' f'grl_lambda: {grl_lambda:.3f} '\n",
    "             )\n",
    "    acc_train_sc =  get_accuracy(model, dl_source_train)\n",
    "    acc_test_sc = get_accuracy(model, dl_source_test)\n",
    "    acc_train_tg =  get_accuracy(model, dl_target_train)\n",
    "    acc_test_tg = get_accuracy(model, dl_target_test)\n",
    "    print(f'[{batch_idx+1}/{max_batches}] '\n",
    "          f' source_acc_train: {acc_train_sc:.4f}' f' source_acc_test: {acc_test_sc:.4f}')\n",
    "    print(f'[{batch_idx+1}/{max_batches}] '\n",
    "          f' target_acc_train: {acc_train_tg:.4f}' f' target_acc_test: {acc_test_tg:.4f}')"
   ]
  },
  {
   "cell_type": "code",
   "execution_count": null,
   "metadata": {},
   "outputs": [],
   "source": []
  },
  {
   "cell_type": "code",
   "execution_count": null,
   "metadata": {},
   "outputs": [],
   "source": []
  },
  {
   "cell_type": "code",
   "execution_count": 152,
   "metadata": {},
   "outputs": [],
   "source": [
    "embedding_source = np.empty((len(dl_source)*bsize, 216))\n",
    "embedding_target = np.empty((len(dl_target)*bsize, 216))"
   ]
  },
  {
   "cell_type": "code",
   "execution_count": 154,
   "metadata": {},
   "outputs": [],
   "source": [
    "model.eval()\n",
    "for j, i in enumerate(dl_source):\n",
    "  dim = i[0].shape[0]\n",
    "  with torch.no_grad():\n",
    "      embedding_source[j*dim:j*dim+dim,:] = model.feature_extractor(i[0]).numpy()"
   ]
  },
  {
   "cell_type": "code",
   "execution_count": 68,
   "metadata": {},
   "outputs": [],
   "source": [
    "from sklearn.manifold import TSNE as tsne"
   ]
  },
  {
   "cell_type": "code",
   "execution_count": 155,
   "metadata": {},
   "outputs": [],
   "source": [
    "s_emb_tsne = tsne(n_components=2).fit_transform(embedding_source)"
   ]
  },
  {
   "cell_type": "code",
   "execution_count": 156,
   "metadata": {},
   "outputs": [],
   "source": [
    "t_emb_tsne = tsne(n_components=2).fit_transform(embedding_target)"
   ]
  },
  {
   "cell_type": "code",
   "execution_count": 76,
   "metadata": {},
   "outputs": [],
   "source": [
    "import matplotlib.pyplot as plt"
   ]
  },
  {
   "cell_type": "code",
   "execution_count": 157,
   "metadata": {},
   "outputs": [
    {
     "data": {
      "text/plain": [
       "<matplotlib.collections.PathCollection at 0x19c24ad6908>"
      ]
     },
     "execution_count": 157,
     "metadata": {},
     "output_type": "execute_result"
    },
    {
     "data": {
      "image/png": "[encoded data removed]",
      "text/plain": [
       "<Figure size 432x288 with 1 Axes>"
      ]
     },
     "metadata": {
      "needs_background": "light"
     },
     "output_type": "display_data"
    }
   ],
   "source": [
    "plt.scatter(s_emb_tsne[:,0], s_emb_tsne[:,1])\n",
    "plt.scatter(t_emb_tsne[:,0], t_emb_tsne[:,1])"
   ]
  },
  {
   "cell_type": "code",
   "execution_count": 79,
   "metadata": {},
   "outputs": [
    {
     "data": {
      "text/plain": [
       "<matplotlib.collections.PathCollection at 0x19c24f73088>"
      ]
     },
     "execution_count": 79,
     "metadata": {},
     "output_type": "execute_result"
    },
    {
     "data": {
      "image/png": "[encoded data removed]",
      "text/plain": [
       "<Figure size 432x288 with 1 Axes>"
      ]
     },
     "metadata": {
      "needs_background": "light"
     },
     "output_type": "display_data"
    }
   ],
   "source": [
    "plt.scatter(s_emb_tsne[:,0], s_emb_tsne[:,1])\n",
    "plt.scatter(t_emb_tsne[:,0], t_emb_tsne[:,1])"
   ]
  }
 ],
 "metadata": {
  "kernelspec": {
   "display_name": "Python 3",
   "language": "python",
   "name": "python3"
  },
  "language_info": {
   "codemirror_mode": {
    "name": "ipython",
    "version": 3
   },
   "file_extension": ".py",
   "mimetype": "text/x-python",
   "name": "python",
   "nbconvert_exporter": "python",
   "pygments_lexer": "ipython3",
   "version": "3.7.8"
  },
  "varInspector": {
   "cols": {
    "lenName": 16,
    "lenType": 16,
    "lenVar": 40
   },
   "kernels_config": {
    "python": {
     "delete_cmd_postfix": "",
     "delete_cmd_prefix": "del ",
     "library": "var_list.py",
     "varRefreshCmd": "print(var_dic_list())"
    },
    "r": {
     "delete_cmd_postfix": ") ",
     "delete_cmd_prefix": "rm(",
     "library": "var_list.r",
     "varRefreshCmd": "cat(var_dic_list()) "
    }
   },
   "types_to_exclude": [
    "module",
    "function",
    "builtin_function_or_method",
    "instance",
    "_Feature"
   ],
   "window_display": false
  }
 },
 "nbformat": 4,
 "nbformat_minor": 4
}
