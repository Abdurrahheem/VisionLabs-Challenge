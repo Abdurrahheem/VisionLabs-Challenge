{
 "cells": [
  {
   "cell_type": "code",
   "execution_count": 5,
   "metadata": {},
   "outputs": [],
   "source": [
    "import torch\n",
    "import torch.nn as nn\n",
    "import torchvision.models as models"
   ]
  },
  {
   "cell_type": "code",
   "execution_count": 282,
   "metadata": {},
   "outputs": [],
   "source": [
    "class Autoencoder(nn.Module):\n",
    "    def __init__(self):\n",
    "        super(Autoencoder, self).__init__()\n",
    "        \n",
    "        ## encoder\n",
    "        self.encoder = models.squeezenet1_1(pretrained=True)\n",
    "        self.encoder.classifier = nn.Sequential(nn.Conv2d(512, 1, kernel_size=(2, 2), stride=(1, 1)))\n",
    "        \n",
    "        ## decoder\n",
    "        self.decoder = nn.Sequential( nn.ConvTranspose2d(1, 16, 4, stride=2),\n",
    "                                       nn.BatchNorm2d(16),\n",
    "                                       nn.ReLU(),\n",
    "                                       nn.ConvTranspose2d(16, 32, 3, stride=2),\n",
    "                                       nn.BatchNorm2d(32),\n",
    "                                       nn.ReLU(),\n",
    "                                       nn.ConvTranspose2d(32, 64, 3, stride=2),\n",
    "                                       nn.BatchNorm2d(64),\n",
    "                                       nn.ReLU(),\n",
    "                                       nn.ConvTranspose2d(64, 32, 3, stride=2),\n",
    "                                       nn.BatchNorm2d(32),\n",
    "                                       nn.ReLU(),\n",
    "                                       nn.ConvTranspose2d(32, 16, 3, stride=1),\n",
    "                                       nn.BatchNorm2d(16),\n",
    "                                       nn.ReLU(),\n",
    "                                       nn.ConvTranspose2d(16, 1, 8, stride=1),)\n",
    "\n",
    "    def forward(self, x):\n",
    "        x = self.encoder(x)\n",
    "        x = self.decoder(x.view(1,1,12,12))\n",
    "        return x\n",
    "        "
   ]
  },
  {
   "cell_type": "code",
   "execution_count": 283,
   "metadata": {},
   "outputs": [],
   "source": [
    "model = Autoencoder()"
   ]
  },
  {
   "cell_type": "code",
   "execution_count": null,
   "metadata": {},
   "outputs": [],
   "source": []
  }
 ],
 "metadata": {
  "kernelspec": {
   "display_name": "Python 3",
   "language": "python",
   "name": "python3"
  },
  "language_info": {
   "codemirror_mode": {
    "name": "ipython",
    "version": 3
   },
   "file_extension": ".py",
   "mimetype": "text/x-python",
   "name": "python",
   "nbconvert_exporter": "python",
   "pygments_lexer": "ipython3",
   "version": "3.7.3"
  },
  "varInspector": {
   "cols": {
    "lenName": 16,
    "lenType": 16,
    "lenVar": 40
   },
   "kernels_config": {
    "python": {
     "delete_cmd_postfix": "",
     "delete_cmd_prefix": "del ",
     "library": "var_list.py",
     "varRefreshCmd": "print(var_dic_list())"
    },
    "r": {
     "delete_cmd_postfix": ") ",
     "delete_cmd_prefix": "rm(",
     "library": "var_list.r",
     "varRefreshCmd": "cat(var_dic_list()) "
    }
   },
   "types_to_exclude": [
    "module",
    "function",
    "builtin_function_or_method",
    "instance",
    "_Feature"
   ],
   "window_display": false
  }
 },
 "nbformat": 4,
 "nbformat_minor": 2
}
