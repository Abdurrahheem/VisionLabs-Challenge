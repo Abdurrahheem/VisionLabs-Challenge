{
 "cells": [
  {
   "cell_type": "code",
   "execution_count": 5,
   "metadata": {},
   "outputs": [],
   "source": [
    "import torch\n",
    "import torch.nn as nn\n",
    "import torchvision.models as models"
   ]
  },
  {
   "cell_type": "code",
   "execution_count": null,
   "metadata": {},
   "outputs": [],
   "source": [
    "class myData(Dataset):\n",
    "    def __init__(self, pathToImgs, tranformation=None):\n",
    "        self.pathToImgs = pathToImgs\n",
    "        self.imgNames = os.listdir(pathToImgs)\n",
    "        self.transforms = tranformation\n",
    "        self.normalize = transforms.Normalize(mean=[0.485, 0.456, 0.406],\n",
    "                                              std=[0.229, 0.224, 0.225])\n",
    "        self.defTransform = transforms.Compose([transforms.Resize((224,224)), ## add nomalization\n",
    "                                                transforms.ToTensor()])\n",
    "    \n",
    "    def __len__(self):\n",
    "        return len(self.imgNames)\n",
    "    \n",
    "    def __getitem__(self, idx):\n",
    "        if torch.is_tensor(idx):\n",
    "          idx = idx.tolist()\n",
    "        \n",
    "        img_name = os.path.join(self.pathToImgs, self.imgNames[idx])\n",
    "        image = Image.open(img_name)\n",
    "        label = self.imgNames[idx].split('.')[0]\n",
    "        label = torch.tensor(int(label.split('_')[1]))\n",
    "        \n",
    "        if self.transforms:\n",
    "            image = self.transforms(image)\n",
    "            image = torch.cat(3*[image])\n",
    "        else: \n",
    "            image = self.defTransform(image).float()\n",
    "            image = torch.cat(3*[image])\n",
    "            image = self.normalize(image)\n",
    "            \n",
    "        return image, label"
   ]
  },
  {
   "cell_type": "code",
   "execution_count": 282,
   "metadata": {},
   "outputs": [],
   "source": [
    "class Autoencoder(nn.Module):\n",
    "    def __init__(self):\n",
    "        super(Autoencoder, self).__init__()\n",
    "        \n",
    "        ## encoder\n",
    "        self.encoder = models.squeezenet1_1(pretrained=True)\n",
    "        self.encoder.classifier = nn.Sequential(nn.Conv2d(512, 1, kernel_size=(2, 2), stride=(1, 1)))\n",
    "        \n",
    "        ## decoder\n",
    "        self.decoder = nn.Sequential( nn.ConvTranspose2d(1, 16, 4, stride=2),\n",
    "                                       nn.BatchNorm2d(16),\n",
    "                                       nn.ReLU(),\n",
    "                                       nn.ConvTranspose2d(16, 32, 3, stride=2),\n",
    "                                       nn.BatchNorm2d(32),\n",
    "                                       nn.ReLU(),\n",
    "                                       nn.ConvTranspose2d(32, 64, 3, stride=2),\n",
    "                                       nn.BatchNorm2d(64),\n",
    "                                       nn.ReLU(),\n",
    "                                       nn.ConvTranspose2d(64, 32, 3, stride=2),\n",
    "                                       nn.BatchNorm2d(32),\n",
    "                                       nn.ReLU(),\n",
    "                                       nn.ConvTranspose2d(32, 16, 3, stride=1),\n",
    "                                       nn.BatchNorm2d(16),\n",
    "                                       nn.ReLU(),\n",
    "                                       nn.ConvTranspose2d(16, 1, 8, stride=1),)\n",
    "\n",
    "    def forward(self, x):\n",
    "        x = self.encoder(x)\n",
    "        x = self.decoder(x.view(1,1,12,12))\n",
    "        return x\n",
    "        "
   ]
  },
  {
   "cell_type": "code",
   "execution_count": null,
   "metadata": {},
   "outputs": [],
   "source": [
    "def train(epoch, model, optimizer, criterion, dataloder, device, scheduler=None, exp_name=None):\n",
    "  \n",
    "    best_model_wts = copy.deepcopy(model.state_dict())\n",
    "    scores = {'bestValLoss': float('inf') , 'epoch': 0, 'trainLoss@BVal': float('inf'), 'iter': 0}\n",
    "\n",
    "    if exp_name:\n",
    "        writer = SummaryWriter('./logs/{}'.format(exp_name))\n",
    "        \n",
    "    for e in range(epoch):\n",
    "        model.train()\n",
    "        epochLoss, counter = 0, 0\n",
    "        for img, label in dataloder[0]:\n",
    "            img = img.to(device)\n",
    "            optimizer.zero_grad()\n",
    "            output = model(img)\n",
    "            loss = criterion(output, label)\n",
    "            loss.backward()\n",
    "            optimizer.step()\n",
    "            epochLoss += loss.item()\n",
    "            counter += 1\n",
    "            scores['iter'] +=1\n",
    "            # print(loss.item())\n",
    "            writer.add_scalar(\"trainLoss\", loss.item(), global_step = scores['iter'])\n",
    "        avgLossTrain = epochLoass/counter\n",
    "        print(f'train epochLoss: {avgLossTrain}\\t epoch: {e}')\n",
    "        writer.add_scalar(\"TrainEpochLoss\", avgLossTrain, global_step=e)\n",
    "        \n",
    "        with torch.no_grad():\n",
    "            model.eval()\n",
    "            epochLoss, counter = 0, 0\n",
    "            for img, label in dataloder[1]:\n",
    "                img = img.to(device)\n",
    "                output = model(img)\n",
    "                epochLoss += loss.item()\n",
    "                counter += 1\n",
    "        avgLossVal = epochLoass/counter\n",
    "        print(f'test epochLoss: {avgLossVal}\\t epoch: {e}')\n",
    "        print('==' * 30)\n",
    "        writer.add_scalar(\"testEpochLoss\", avgLossVal, global_step=e)\n",
    "                \n",
    "        if scheduler:\n",
    "            scheduler.step()\n",
    "            \n",
    "        if avgLossVal < scores['bestValLoss']:\n",
    "            scores['bestValLoss'] = avgLossVal\n",
    "            scores['epoch'] = e\n",
    "            scores['trainLoss@BVal'] = avgLossTrain\n",
    "            best_model_wts  = copy.deepcopy(model.state_dict())\n",
    "            \n",
    "    print(scores)\n",
    "    model.load_state_dict(best_model_wts)"
   ]
  },
  {
   "cell_type": "code",
   "execution_count": null,
   "metadata": {},
   "outputs": [],
   "source": [
    "bsize = 100\n",
    "path_tr = './EyesDataset/train/'\n",
    "path_ts = './EyesDataset/test/'\n",
    "\n",
    "trainDataset = myData(path_tr)\n",
    "testDataset = myData(path_ts)\n",
    "trainloader = DataLoader(trainDataset, batch_size=bsize, shuffle=True, num_workers=8, pin_memory=True)\n",
    "testloader  = DataLoader(testDataset, batch_size=bsize, num_workers=8, pin_memory=True)"
   ]
  },
  {
   "cell_type": "code",
   "execution_count": 283,
   "metadata": {},
   "outputs": [],
   "source": [
    "device = 'cuda:0' if torch.cuda.is_available() else 'cpu'\n",
    "model = Autoencoder()\n",
    "model = model.to(device)"
   ]
  },
  {
   "cell_type": "code",
   "execution_count": null,
   "metadata": {},
   "outputs": [],
   "source": []
  }
 ],
 "metadata": {
  "kernelspec": {
   "display_name": "Python 3",
   "language": "python",
   "name": "python3"
  },
  "language_info": {
   "codemirror_mode": {
    "name": "ipython",
    "version": 3
   },
   "file_extension": ".py",
   "mimetype": "text/x-python",
   "name": "python",
   "nbconvert_exporter": "python",
   "pygments_lexer": "ipython3",
   "version": "3.7.3"
  },
  "varInspector": {
   "cols": {
    "lenName": 16,
    "lenType": 16,
    "lenVar": 40
   },
   "kernels_config": {
    "python": {
     "delete_cmd_postfix": "",
     "delete_cmd_prefix": "del ",
     "library": "var_list.py",
     "varRefreshCmd": "print(var_dic_list())"
    },
    "r": {
     "delete_cmd_postfix": ") ",
     "delete_cmd_prefix": "rm(",
     "library": "var_list.r",
     "varRefreshCmd": "cat(var_dic_list()) "
    }
   },
   "types_to_exclude": [
    "module",
    "function",
    "builtin_function_or_method",
    "instance",
    "_Feature"
   ],
   "window_display": false
  }
 },
 "nbformat": 4,
 "nbformat_minor": 2
}
